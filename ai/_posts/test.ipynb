{
 "cells": [
  {
   "cell_type": "code",
   "execution_count": 2,
   "metadata": {},
   "outputs": [],
   "source": [
    "class Node():\n",
    "    def __init__(self, edge:list, prob, r):\n",
    "        self.adjacent_edge = []\n",
    "    \n",
    "    ㅇㄷㄹ \n"
   ]
  },
  {
   "cell_type": "code",
   "execution_count": null,
   "metadata": {},
   "outputs": [],
   "source": [
    "#문제 : \n",
    "graph = {'F': [('F', 0.5, -1), ('C1', 0.5, 0)],\n",
    "         'C1' : [()],\n",
    "         'C2' : [],\n",
    "         'C3' : [],\n",
    "         'S' : []}"
   ]
  }
 ],
 "metadata": {
  "interpreter": {
   "hash": "e869be5ac50a5fff0ba4c545c8a82dfca1e01314f3778b7a1a60c5b116e49965"
  },
  "kernelspec": {
   "display_name": "Python 3.9.7 ('base')",
   "language": "python",
   "name": "python3"
  },
  "language_info": {
   "codemirror_mode": {
    "name": "ipython",
    "version": 3
   },
   "file_extension": ".py",
   "mimetype": "text/x-python",
   "name": "python",
   "nbconvert_exporter": "python",
   "pygments_lexer": "ipython3",
   "version": "3.9.7"
  },
  "orig_nbformat": 4
 },
 "nbformat": 4,
 "nbformat_minor": 2
}
